{
 "cells": [
  {
   "cell_type": "markdown",
   "id": "1ef90b0b",
   "metadata": {},
   "source": [
    "# Tutorial \n",
    "\n",
    "https://techcommunity.microsoft.com/t5/azure-database-for-postgresql/analyzing-gps-trajectories-at-scale-with-postgres-mobilitydb-amp/ba-p/1859278\n",
    "\n",
    "\n",
    "# Launch docker\n",
    "\n",
    "docker pull mobilitydb/mobilitydb  \n",
    "docker volume create mobilitydb_data  \n",
    "docker run --name \"mobilitydb\" -d -p 25432:5432 -v mobilitydb_data:/var/lib/postgresql mobilitydb/mobilitydb  \n"
   ]
  },
  {
   "cell_type": "code",
   "execution_count": 1,
   "id": "53efe697",
   "metadata": {},
   "outputs": [
    {
     "name": "stdout",
     "output_type": "stream",
     "text": [
      "Collecting psycopg2-binary\n",
      "\u001b[?25l  Downloading https://files.pythonhosted.org/packages/b0/d4/0ea9e4639917c2bdfc3a2322f4240481fdb0d74b0b733d9fba5739db60a8/psycopg2_binary-2.9.2-cp37-cp37m-manylinux_2_17_x86_64.manylinux2014_x86_64.whl (3.0MB)\n",
      "\u001b[K     |████████████████████████████████| 3.0MB 7.3MB/s eta 0:00:01\n",
      "\u001b[?25hInstalling collected packages: psycopg2-binary\n",
      "Successfully installed psycopg2-binary-2.9.2\n"
     ]
    }
   ],
   "source": [
    "# ! pip install psycopg2-binary"
   ]
  },
  {
   "cell_type": "code",
   "execution_count": null,
   "id": "d7735404",
   "metadata": {},
   "outputs": [],
   "source": [
    "# https://coderedirect.com/questions/349555/docker-postgres-and-pgadmin-4-connection-refused\n",
    "# docker network ls\n",
    "# docker network inspect 123254035bc7"
   ]
  },
  {
   "cell_type": "code",
   "execution_count": 2,
   "id": "080c4f14",
   "metadata": {},
   "outputs": [],
   "source": [
    "import pandas as pd\n",
    "import psycopg2"
   ]
  },
  {
   "cell_type": "code",
   "execution_count": 3,
   "id": "b4f43a90",
   "metadata": {},
   "outputs": [],
   "source": [
    "def execute_query(query, fetch = False):\n",
    "    conn = psycopg2.connect(\"dbname='mobilitydb' user='docker' host='172.17.0.3' password='docker'\") \n",
    "    conn.autocommit = True\n",
    "    cursor = conn.cursor()\n",
    "    cursor.execute(query)\n",
    "    if fetch:\n",
    "        result = cursor.fetchall()\n",
    "    else:\n",
    "        result = None\n",
    "    conn.close()\n",
    "    return result"
   ]
  },
  {
   "cell_type": "code",
   "execution_count": 13,
   "id": "a4c31bd1",
   "metadata": {},
   "outputs": [],
   "source": []
  },
  {
   "cell_type": "markdown",
   "id": "462ce789",
   "metadata": {},
   "source": [
    "# Load extensions"
   ]
  },
  {
   "cell_type": "code",
   "execution_count": 6,
   "id": "2f495c8b",
   "metadata": {},
   "outputs": [
    {
     "ename": "DuplicateObject",
     "evalue": "extension \"postgis\" already exists\n",
     "output_type": "error",
     "traceback": [
      "\u001b[0;31m---------------------------------------------------------------------------\u001b[0m",
      "\u001b[0;31mDuplicateObject\u001b[0m                           Traceback (most recent call last)",
      "\u001b[0;32m<ipython-input-6-b9cf186bb8db>\u001b[0m in \u001b[0;36m<module>\u001b[0;34m\u001b[0m\n\u001b[1;32m      3\u001b[0m \u001b[0mCREATE\u001b[0m \u001b[0mEXTENSION\u001b[0m \u001b[0mMobilityDB\u001b[0m \u001b[0mCASCADE\u001b[0m\u001b[0;34m;\u001b[0m\u001b[0;34m\u001b[0m\u001b[0;34m\u001b[0m\u001b[0m\n\u001b[1;32m      4\u001b[0m \"\"\"\n\u001b[0;32m----> 5\u001b[0;31m \u001b[0mexecute_query\u001b[0m\u001b[0;34m(\u001b[0m\u001b[0mcreate_extensions\u001b[0m\u001b[0;34m)\u001b[0m\u001b[0;34m\u001b[0m\u001b[0;34m\u001b[0m\u001b[0m\n\u001b[0m",
      "\u001b[0;32m<ipython-input-3-f12f79cdb706>\u001b[0m in \u001b[0;36mexecute_query\u001b[0;34m(query, fetch)\u001b[0m\n\u001b[1;32m      3\u001b[0m     \u001b[0mconn\u001b[0m\u001b[0;34m.\u001b[0m\u001b[0mautocommit\u001b[0m \u001b[0;34m=\u001b[0m \u001b[0;32mTrue\u001b[0m\u001b[0;34m\u001b[0m\u001b[0;34m\u001b[0m\u001b[0m\n\u001b[1;32m      4\u001b[0m     \u001b[0mcursor\u001b[0m \u001b[0;34m=\u001b[0m \u001b[0mconn\u001b[0m\u001b[0;34m.\u001b[0m\u001b[0mcursor\u001b[0m\u001b[0;34m(\u001b[0m\u001b[0;34m)\u001b[0m\u001b[0;34m\u001b[0m\u001b[0;34m\u001b[0m\u001b[0m\n\u001b[0;32m----> 5\u001b[0;31m     \u001b[0mcursor\u001b[0m\u001b[0;34m.\u001b[0m\u001b[0mexecute\u001b[0m\u001b[0;34m(\u001b[0m\u001b[0mquery\u001b[0m\u001b[0;34m)\u001b[0m\u001b[0;34m\u001b[0m\u001b[0;34m\u001b[0m\u001b[0m\n\u001b[0m\u001b[1;32m      6\u001b[0m     \u001b[0;32mif\u001b[0m \u001b[0mfetch\u001b[0m\u001b[0;34m:\u001b[0m\u001b[0;34m\u001b[0m\u001b[0;34m\u001b[0m\u001b[0m\n\u001b[1;32m      7\u001b[0m         \u001b[0mresult\u001b[0m \u001b[0;34m=\u001b[0m \u001b[0mcursor\u001b[0m\u001b[0;34m.\u001b[0m\u001b[0mfetchall\u001b[0m\u001b[0;34m(\u001b[0m\u001b[0;34m)\u001b[0m\u001b[0;34m\u001b[0m\u001b[0;34m\u001b[0m\u001b[0m\n",
      "\u001b[0;31mDuplicateObject\u001b[0m: extension \"postgis\" already exists\n"
     ]
    }
   ],
   "source": [
    "create_extensions = \"\"\"\n",
    "CREATE EXTENSION PostGIS;\n",
    "CREATE EXTENSION MobilityDB CASCADE;\n",
    "\"\"\"\n",
    "execute_query(create_extensions)"
   ]
  },
  {
   "cell_type": "markdown",
   "id": "3ac89cb5",
   "metadata": {},
   "source": [
    "# Create new tables"
   ]
  },
  {
   "cell_type": "code",
   "execution_count": 7,
   "id": "be7a2a2d",
   "metadata": {},
   "outputs": [],
   "source": [
    "create_gps_point_table = \"\"\"\n",
    "DROP TABLE if exists gpsPoint CASCADE;\n",
    "CREATE TABLE gpsPoint (tripID int, pointID int, t timestamp, geom geometry(Point, 3812));\n",
    "\"\"\""
   ]
  },
  {
   "cell_type": "code",
   "execution_count": 8,
   "id": "2077da3b",
   "metadata": {},
   "outputs": [],
   "source": [
    "create_billboard_table = \"\"\"\n",
    "DROP TABLE if exists billboard CASCADE;\n",
    "CREATE TABLE billboard(billboardID int, geom geometry(Point, 3812));\n",
    "\"\"\""
   ]
  },
  {
   "cell_type": "markdown",
   "id": "1bfa314a",
   "metadata": {},
   "source": [
    "# Insert generated data into tables"
   ]
  },
  {
   "cell_type": "code",
   "execution_count": 9,
   "id": "b53b5a0e",
   "metadata": {},
   "outputs": [
    {
     "name": "stdout",
     "output_type": "stream",
     "text": [
      "INSERT INTO gpsPoint Values \n",
      "    (1, 1, '2020-04-21 08:37:27', 'SRID=3812;POINT(651096.993815166 667028.114604598)'),\n",
      "    (1, 2, '2020-04-21 08:37:39', 'SRID=3812;POINT(651080.424535144 667123.352304597)'),    \n",
      "    (1, 3, '2020-04-21 08:38:06', 'SRID=3812;POINT(651067.607438095 667173.570340437)'),\n",
      "    (1, 4, '2020-04-21 08:38:31', 'SRID=3812;POINT(651052.741845233 667213.026797244)'),    \n",
      "    (1, 5, '2020-04-21 08:38:49', 'SRID=3812;POINT(651029.676773636 667255.556944161)'),    \n",
      "    (1, 6, '2020-04-21 08:39:08', 'SRID=3812;POINT(651018.401101238 667271.441380755)'),    \n",
      "    (2, 1, '2020-04-21 08:39:29', 'SRID=3812;POINT(651262.17004873  667119.331513367)'),    \n",
      "    (2, 2, '2020-04-21 08:38:36', 'SRID=3812;POINT(651201.431447782 667089.682115196)'),    \n",
      "    (2, 3, '2020-04-21 08:38:43', 'SRID=3812;POINT(651186.853162155 667091.138189286)'),    \n",
      "    (2, 4, '2020-04-21 08:38:49', 'SRID=3812;POINT(651181.995412783 667077.531372716)'),    \n",
      "    (2, 5, '2020-04-21 08:38:56', 'SRID=3812;POINT(651101.820139904 667041.076539663)');\n"
     ]
    }
   ],
   "source": [
    "def gps_point_insert_query(n):\n",
    "    s = \"\\n\".join([\n",
    "        f\"\"\"\n",
    "    ({i*2+1}, 1, '2020-04-21 08:37:27', 'SRID=3812;POINT({651096+i*200}.993815166 667028.114604598)'),\n",
    "    ({i*2+1}, 2, '2020-04-21 08:37:39', 'SRID=3812;POINT({651080+i*200}.424535144 667123.352304597)'),    \n",
    "    ({i*2+1}, 3, '2020-04-21 08:38:06', 'SRID=3812;POINT({651067+i*200}.607438095 667173.570340437)'),\n",
    "    ({i*2+1}, 4, '2020-04-21 08:38:31', 'SRID=3812;POINT({651052+i*200}.741845233 667213.026797244)'),    \n",
    "    ({i*2+1}, 5, '2020-04-21 08:38:49', 'SRID=3812;POINT({651029+i*200}.676773636 667255.556944161)'),    \n",
    "    ({i*2+1}, 6, '2020-04-21 08:39:08', 'SRID=3812;POINT({651018+i*200}.401101238 667271.441380755)'),    \n",
    "    ({i*2+2}, 1, '2020-04-21 08:39:29', 'SRID=3812;POINT({651262+i*200}.17004873  667119.331513367)'),    \n",
    "    ({i*2+2}, 2, '2020-04-21 08:38:36', 'SRID=3812;POINT({651201+i*200}.431447782 667089.682115196)'),    \n",
    "    ({i*2+2}, 3, '2020-04-21 08:38:43', 'SRID=3812;POINT({651186+i*200}.853162155 667091.138189286)'),    \n",
    "    ({i*2+2}, 4, '2020-04-21 08:38:49', 'SRID=3812;POINT({651181+i*200}.995412783 667077.531372716)'),    \n",
    "    ({i*2+2}, 5, '2020-04-21 08:38:56', 'SRID=3812;POINT({651101+i*200}.820139904 667041.076539663)'),\"\"\"\n",
    "        for i in range(n//2)\n",
    "    ])\n",
    "    start = \"INSERT INTO gpsPoint Values\"\n",
    "    query = f\"{start} {s[:-1]};\"\n",
    "    return query\n",
    "\n",
    "print(gps_point_insert_query(2))"
   ]
  },
  {
   "cell_type": "code",
   "execution_count": 10,
   "id": "e2dd4805",
   "metadata": {},
   "outputs": [
    {
     "name": "stdout",
     "output_type": "stream",
     "text": [
      "INSERT INTO billboard Values \n",
      "        (1, 'SRID=3812;POINT(651066.289442793 667213.589577551)'),\n",
      "        (2, 'SRID=3812;POINT(651110.505092035 667166.698041233)');\n"
     ]
    }
   ],
   "source": [
    "def billboard_insert_query(n):\n",
    "    s = \"\\n\".join([\n",
    "        f\"\"\"\n",
    "        ({i*2+1}, 'SRID=3812;POINT({651066 + i*200}.289442793 667213.589577551)'),\n",
    "        ({i*2+2}, 'SRID=3812;POINT({651110 + i* 200}.505092035 667166.698041233)'),\"\"\"\n",
    "        for i in range(n // 2)\n",
    "    ])\n",
    "    start = \"INSERT INTO billboard Values\"\n",
    "    query = f\"{start} {s[:-1]};\"\n",
    "    return query\n",
    "print(billboard_insert_query(2))"
   ]
  },
  {
   "cell_type": "markdown",
   "id": "73d41b69",
   "metadata": {},
   "source": [
    "# Post-GIS queries"
   ]
  },
  {
   "cell_type": "code",
   "execution_count": 11,
   "id": "650bb610",
   "metadata": {},
   "outputs": [],
   "source": [
    "create_post_gis_view = \"\"\"\n",
    "DROP VIEW if exists timeGPS;\n",
    "CREATE VIEW timeGPS AS\n",
    "WITH pointPair AS(\n",
    "     SELECT tripID, pointID AS p1, t AS t1, geom AS geom1,\n",
    "       lead(pointID, 1) OVER (PARTITION BY tripID ORDER BY pointID) p2,\n",
    "       lead(t, 1) OVER (PARTITION BY tripID ORDER BY pointID) t2,\n",
    "       lead(geom, 1) OVER (PARTITION BY tripID ORDER BY pointID) geom2    \n",
    "     FROM gpsPoint\n",
    "   ), segment AS(\n",
    "     SELECT tripID, p1, p2, t1, t2,\n",
    "       st_makeline(geom1, geom2) geom\n",
    "    FROM pointPair\n",
    "    WHERE p2 IS NOT NULL    \n",
    "  ), approach AS(\n",
    "    SELECT tripID, p1, p2, t1, t2, a.geom,\n",
    "      st_intersection(a.geom, st_exteriorRing(st_buffer(b.geom, 30))) visibilityTogglePoint\n",
    "    FROM segment a, billboard b\n",
    "    WHERE st_dwithin(a.geom, b.geom, 30)\n",
    "  )\n",
    "  SELECT tripID, p1, p2, t1, t2, geom, visibilityTogglePoint,\n",
    "    (st_lineLocatePoint(geom, visibilityTogglePoint) * (t2 - t1)) + t1 visibilityToggleTime,\n",
    "\tst_lineLocatePoint(geom, visibilityTogglePoint) * (t2 - t1) visibilityTime\n",
    "  FROM approach;\n",
    "\"\"\"\n",
    "\n",
    "postgis_time = \"\"\"\n",
    "explain analyze select SUM(visibilityTime) FROM timeGPS;\n",
    "\"\"\""
   ]
  },
  {
   "cell_type": "markdown",
   "id": "6581b2cd",
   "metadata": {},
   "source": [
    "# Mobility Queries"
   ]
  },
  {
   "cell_type": "code",
   "execution_count": 18,
   "id": "be706894",
   "metadata": {},
   "outputs": [],
   "source": [
    "create_mobility_bus_table = \"\"\"\n",
    "DROP table if exists busTrip CASCADE;\n",
    "CREATE TABLE busTrip(tripID, trip) AS\n",
    "  SELECT tripID,tgeompoint_seq(array_agg(tgeompoint_inst(geom, t) ORDER BY t))\n",
    "FROM gpsPoint\n",
    "GROUP BY tripID;\n",
    "\"\"\"\n",
    "create_mobility_view = \"\"\"\n",
    "DROP VIEW if exists mob;\n",
    "CREATE view  mob as \n",
    "SELECT astext(atperiodset(trip, getTime(atValue(tdwithin(a.trip, b.geom, 30), TRUE))))\n",
    "FROM busTrip a, billboard b\n",
    "WHERE dwithin(a.trip, b.geom, 30);\n",
    "\"\"\"\n",
    "\n",
    "mobility_time = \"\"\"\n",
    "explain analyze select * from mob;\n",
    "\"\"\""
   ]
  },
  {
   "cell_type": "markdown",
   "id": "4c2b2b97",
   "metadata": {},
   "source": [
    "# Put it all together"
   ]
  },
  {
   "cell_type": "code",
   "execution_count": 19,
   "id": "8a66afad",
   "metadata": {},
   "outputs": [],
   "source": [
    "df = pd.DataFrame(columns = [\"np\", \"nb\", \"time_gis\", \"time_mobility\"])"
   ]
  },
  {
   "cell_type": "code",
   "execution_count": null,
   "id": "3d2b2b09",
   "metadata": {},
   "outputs": [
    {
     "name": "stdout",
     "output_type": "stream",
     "text": [
      "4 281.386 ms\n",
      "4 37.716 ms\n",
      "4 277.190 ms\n",
      "4 39.764 ms\n",
      "4 282.596 ms\n",
      "4 37.926 ms\n",
      "4 291.498 ms\n",
      "4 41.114 ms\n",
      "4 271.508 ms\n",
      "4 37.255 ms\n",
      "40 281.189 ms\n",
      "40 42.697 ms\n",
      "40 296.598 ms\n",
      "40 40.697 ms\n",
      "40 294.929 ms\n",
      "40 41.328 ms\n",
      "40 276.900 ms\n",
      "40 40.614 ms\n",
      "40 284.580 ms\n",
      "40 40.297 ms\n",
      "400 823.466 ms\n",
      "400 251.967 ms\n",
      "400 796.670 ms\n",
      "400 260.733 ms\n",
      "400 814.660 ms\n",
      "400 252.603 ms\n",
      "400 822.559 ms\n",
      "400 248.112 ms\n",
      "400 808.634 ms\n",
      "400 244.115 ms\n",
      "4000 53546.834 ms\n",
      "4000 9245.564 ms\n",
      "4000 52924.564 ms\n",
      "4000 8935.010 ms\n",
      "4000 53176.031 ms\n",
      "4000 9164.303 ms\n",
      "4000 53563.699 ms\n",
      "4000 9100.357 ms\n",
      "4000 52940.702 ms\n",
      "4000 9148.478 ms\n"
     ]
    }
   ],
   "source": [
    "for n in [4, 40, 400, 4000, 40000]:\n",
    "    for _ in range(5):\n",
    "        execute_query(create_gps_point_table)\n",
    "        execute_query(create_billboard_table)\n",
    "\n",
    "        execute_query(gps_point_insert_query(n))\n",
    "        execute_query(billboard_insert_query(n))\n",
    "\n",
    "        execute_query(create_post_gis_view)\n",
    "        res = execute_query(postgis_time, fetch = True)\n",
    "        time_gis = res[-1][0].split(\":\")[1].strip()\n",
    "        print(n, time_gis)\n",
    "\n",
    "        execute_query(create_mobility_bus_table)\n",
    "        execute_query(create_mobility_view)\n",
    "        res = execute_query(mobility_time, fetch = True)\n",
    "        time_mob = res[-1][0].split(\":\")[1].strip()\n",
    "        print(n, time_mob)\n",
    "\n",
    "        df.loc[df.shape[0]] = [11*n//2, n, time_gis, time_mob]\n",
    "        df.to_pickle(\"results.pkl\")"
   ]
  },
  {
   "cell_type": "code",
   "execution_count": null,
   "id": "be086d12",
   "metadata": {},
   "outputs": [],
   "source": []
  },
  {
   "cell_type": "markdown",
   "id": "6b092467",
   "metadata": {},
   "source": [
    "# Debug"
   ]
  },
  {
   "cell_type": "code",
   "execution_count": null,
   "id": "55356322",
   "metadata": {},
   "outputs": [],
   "source": [
    "execute_query(create_gps_point_table)\n",
    "execute_query(create_billboard_table)\n",
    "\n",
    "execute_query(\"select * from gpsPoint\", fetch = True)\n",
    "\n",
    "execute_query(\"delete from gpsPoint\")"
   ]
  },
  {
   "cell_type": "code",
   "execution_count": null,
   "id": "c7d926e1",
   "metadata": {
    "scrolled": true
   },
   "outputs": [],
   "source": [
    "len(execute_query(\"select * from gpsPoint;\", fetch = True))\n",
    "\n",
    "len(execute_query(\"select * from billboard;\", fetch = True))"
   ]
  },
  {
   "cell_type": "code",
   "execution_count": null,
   "id": "6fc04161",
   "metadata": {},
   "outputs": [],
   "source": []
  }
 ],
 "metadata": {
  "kernelspec": {
   "display_name": "Python 3",
   "language": "python",
   "name": "python3"
  },
  "language_info": {
   "codemirror_mode": {
    "name": "ipython",
    "version": 3
   },
   "file_extension": ".py",
   "mimetype": "text/x-python",
   "name": "python",
   "nbconvert_exporter": "python",
   "pygments_lexer": "ipython3",
   "version": "3.7.4"
  }
 },
 "nbformat": 4,
 "nbformat_minor": 5
}
