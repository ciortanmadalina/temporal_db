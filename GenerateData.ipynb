{
 "cells": [
  {
   "cell_type": "markdown",
   "id": "9b3c0c65",
   "metadata": {},
   "source": [
    "# Tutorial \n",
    "\n",
    "https://techcommunity.microsoft.com/t5/azure-database-for-postgresql/analyzing-gps-trajectories-at-scale-with-postgres-mobilitydb-amp/ba-p/1859278\n",
    "\n",
    "\n",
    "# Launch docker\n",
    "\n",
    "docker pull mobilitydb/mobilitydb  \n",
    "docker volume create mobilitydb_data  \n",
    "docker run --name \"mobilitydb\" -d -p 25432:5432 -v mobilitydb_data:/var/lib/postgresql mobilitydb/mobilitydb  \n"
   ]
  },
  {
   "cell_type": "code",
   "execution_count": null,
   "id": "1a7410f4",
   "metadata": {},
   "outputs": [],
   "source": [
    "# ! pip install psycopg2-binary"
   ]
  },
  {
   "cell_type": "code",
   "execution_count": null,
   "id": "b0c9e3a9",
   "metadata": {},
   "outputs": [],
   "source": [
    "# https://coderedirect.com/questions/349555/docker-postgres-and-pgadmin-4-connection-refused\n",
    "# docker network ls\n",
    "# docker network inspect 123254035bc7"
   ]
  },
  {
   "cell_type": "code",
   "execution_count": null,
   "id": "8700d3e0",
   "metadata": {},
   "outputs": [],
   "source": [
    "from sqlalchemy import create_engine\n",
    "from sqlalchemy.engine import Engine\n",
    "import pandas as pd\n",
    "import psycopg2\n",
    "from sqlalchemy.exc import IntegrityError\n"
   ]
  },
  {
   "cell_type": "code",
   "execution_count": null,
   "id": "1418321d",
   "metadata": {},
   "outputs": [],
   "source": [
    "def execute_query(query, fetch = False):\n",
    "    conn = psycopg2.connect(\"dbname='mobilitydb' user='docker' host='172.17.0.3' password='docker'\") \n",
    "    conn.autocommit = True\n",
    "    cursor = conn.cursor()\n",
    "    cursor.execute(query)\n",
    "    if fetch:\n",
    "        result = cursor.fetchall()\n",
    "    else:\n",
    "        result = None\n",
    "    conn.close()\n",
    "    return result"
   ]
  },
  {
   "cell_type": "code",
   "execution_count": null,
   "id": "90c1b2d0",
   "metadata": {},
   "outputs": [],
   "source": [
    "# execute_query(\"select * from gpsPoint\", fetch = True)"
   ]
  },
  {
   "cell_type": "code",
   "execution_count": null,
   "id": "5a5f89b9",
   "metadata": {},
   "outputs": [],
   "source": [
    "# execute_query(\"delete from gpsPoint\")"
   ]
  },
  {
   "cell_type": "markdown",
   "id": "ef668d95",
   "metadata": {},
   "source": [
    "# Load extensions"
   ]
  },
  {
   "cell_type": "code",
   "execution_count": null,
   "id": "621f1217",
   "metadata": {},
   "outputs": [],
   "source": [
    "create_extensions = \"\"\"\n",
    "CREATE EXTENSION PostGIS;\n",
    "CREATE EXTENSION MobilityDB CASCADE;\n",
    "\"\"\"\n",
    "execute_query(create_extensions)"
   ]
  },
  {
   "cell_type": "markdown",
   "id": "51095d3a",
   "metadata": {},
   "source": [
    "# Create new tables"
   ]
  },
  {
   "cell_type": "code",
   "execution_count": null,
   "id": "fc2f96a1",
   "metadata": {},
   "outputs": [],
   "source": [
    "create_gps_point_table = \"\"\"\n",
    "DROP TABLE if exists gpsPoint CASCADE;\n",
    "CREATE TABLE gpsPoint (tripID int, pointID int, t timestamp, geom geometry(Point, 3812));\n",
    "\"\"\""
   ]
  },
  {
   "cell_type": "code",
   "execution_count": null,
   "id": "54c0cd11",
   "metadata": {},
   "outputs": [],
   "source": [
    "create_billboard_table = \"\"\"\n",
    "DROP TABLE if exists billboard CASCADE;\n",
    "CREATE TABLE billboard(billboardID int, geom geometry(Point, 3812));\n",
    "\"\"\""
   ]
  },
  {
   "cell_type": "markdown",
   "id": "122bad4d",
   "metadata": {},
   "source": [
    "# Insert generated data into tables"
   ]
  },
  {
   "cell_type": "code",
   "execution_count": null,
   "id": "fb818aa6",
   "metadata": {},
   "outputs": [],
   "source": [
    "def gps_point_insert_query(n):\n",
    "    s = \"\\n\".join([\n",
    "        f\"\"\"\n",
    "    ({i*2+1}, 1, '2020-04-21 08:37:27', 'SRID=3812;POINT({651096+i*200}.993815166 667028.114604598)'),\n",
    "    ({i*2+1}, 2, '2020-04-21 08:37:39', 'SRID=3812;POINT({651080+i*200}.424535144 667123.352304597)'),    \n",
    "    ({i*2+1}, 3, '2020-04-21 08:38:06', 'SRID=3812;POINT({651067+i*200}.607438095 667173.570340437)'),\n",
    "    ({i*2+1}, 4, '2020-04-21 08:38:31', 'SRID=3812;POINT({651052+i*200}.741845233 667213.026797244)'),    \n",
    "    ({i*2+1}, 5, '2020-04-21 08:38:49', 'SRID=3812;POINT({651029+i*200}.676773636 667255.556944161)'),    \n",
    "    ({i*2+1}, 6, '2020-04-21 08:39:08', 'SRID=3812;POINT({651018+i*200}.401101238 667271.441380755)'),    \n",
    "    ({i*2+2}, 1, '2020-04-21 08:39:29', 'SRID=3812;POINT({651262+i*200}.17004873  667119.331513367)'),    \n",
    "    ({i*2+2}, 2, '2020-04-21 08:38:36', 'SRID=3812;POINT({651201+i*200}.431447782 667089.682115196)'),    \n",
    "    ({i*2+2}, 3, '2020-04-21 08:38:43', 'SRID=3812;POINT({651186+i*200}.853162155 667091.138189286)'),    \n",
    "    ({i*2+2}, 4, '2020-04-21 08:38:49', 'SRID=3812;POINT({651181+i*200}.995412783 667077.531372716)'),    \n",
    "    ({i*2+2}, 5, '2020-04-21 08:38:56', 'SRID=3812;POINT({651101+i*200}.820139904 667041.076539663)'),\"\"\"\n",
    "        for i in range(n//2)\n",
    "    ])\n",
    "    start = \"INSERT INTO gpsPoint Values\"\n",
    "    query = f\"{start} {s[:-1]};\"\n",
    "    return query\n",
    "\n",
    "print(gps_point_insert_query(2))"
   ]
  },
  {
   "cell_type": "code",
   "execution_count": null,
   "id": "4c8196ff",
   "metadata": {},
   "outputs": [],
   "source": [
    "def billboard_insert_query(n):\n",
    "    s = \"\\n\".join([\n",
    "        f\"\"\"\n",
    "        ({i*2+1}, 'SRID=3812;POINT({651066 + i*200}.289442793 667213.589577551)'),\n",
    "        ({i*2+2}, 'SRID=3812;POINT({651110 + i* 200}.505092035 667166.698041233)'),\"\"\"\n",
    "        for i in range(n // 2)\n",
    "    ])\n",
    "    start = \"INSERT INTO billboard Values\"\n",
    "    query = f\"{start} {s[:-1]};\"\n",
    "    return query\n",
    "print(billboard_insert_query(2))"
   ]
  },
  {
   "cell_type": "markdown",
   "id": "89416d47",
   "metadata": {},
   "source": [
    "# Post-GIS queries"
   ]
  },
  {
   "cell_type": "code",
   "execution_count": null,
   "id": "418119fd",
   "metadata": {},
   "outputs": [],
   "source": [
    "create_post_gis_view = \"\"\"\n",
    "DROP VIEW if exists timeGPS;\n",
    "CREATE VIEW timeGPS AS\n",
    "WITH pointPair AS(\n",
    "     SELECT tripID, pointID AS p1, t AS t1, geom AS geom1,\n",
    "       lead(pointID, 1) OVER (PARTITION BY tripID ORDER BY pointID) p2,\n",
    "       lead(t, 1) OVER (PARTITION BY tripID ORDER BY pointID) t2,\n",
    "       lead(geom, 1) OVER (PARTITION BY tripID ORDER BY pointID) geom2    \n",
    "     FROM gpsPoint\n",
    "   ), segment AS(\n",
    "     SELECT tripID, p1, p2, t1, t2,\n",
    "       st_makeline(geom1, geom2) geom\n",
    "    FROM pointPair\n",
    "    WHERE p2 IS NOT NULL    \n",
    "  ), approach AS(\n",
    "    SELECT tripID, p1, p2, t1, t2, a.geom,\n",
    "      st_intersection(a.geom, st_exteriorRing(st_buffer(b.geom, 30))) visibilityTogglePoint\n",
    "    FROM segment a, billboard b\n",
    "    WHERE st_dwithin(a.geom, b.geom, 30)\n",
    "  )\n",
    "  SELECT tripID, p1, p2, t1, t2, geom, visibilityTogglePoint,\n",
    "    (st_lineLocatePoint(geom, visibilityTogglePoint) * (t2 - t1)) + t1 visibilityToggleTime,\n",
    "\tst_lineLocatePoint(geom, visibilityTogglePoint) * (t2 - t1) visibilityTime\n",
    "  FROM approach;\n",
    "\"\"\"\n",
    "\n",
    "postgis_time = \"\"\"\n",
    "explain analyze select SUM(visibilityTime) FROM timeGPS;\n",
    "\"\"\""
   ]
  },
  {
   "cell_type": "markdown",
   "id": "72b4542a",
   "metadata": {},
   "source": [
    "# Mobility Queries"
   ]
  },
  {
   "cell_type": "code",
   "execution_count": null,
   "id": "ad897d13",
   "metadata": {},
   "outputs": [],
   "source": [
    "create_mobility_bus_table = \"\"\"\n",
    "DROP table busTrip CASCADE;\n",
    "CREATE TABLE busTrip(tripID, trip) AS\n",
    "  SELECT tripID,tgeompoint_seq(array_agg(tgeompoint_inst(geom, t) ORDER BY t))\n",
    "FROM gpsPoint\n",
    "GROUP BY tripID;\n",
    "\"\"\"\n",
    "create_mobility_view = \"\"\"\n",
    "DROP VIEW if exists mob;\n",
    "CREATE view  mob as \n",
    "SELECT astext(atperiodset(trip, getTime(atValue(tdwithin(a.trip, b.geom, 30), TRUE))))\n",
    "FROM busTrip a, billboard b\n",
    "WHERE dwithin(a.trip, b.geom, 30);\n",
    "\"\"\"\n",
    "\n",
    "mobility_time = \"\"\"\n",
    "explain analyze select * from mob;\n",
    "\"\"\""
   ]
  },
  {
   "cell_type": "markdown",
   "id": "00b5e279",
   "metadata": {},
   "source": [
    "# Put it all together"
   ]
  },
  {
   "cell_type": "code",
   "execution_count": null,
   "id": "68cc30d5",
   "metadata": {},
   "outputs": [],
   "source": [
    "execute_query(create_gps_point_table)\n",
    "execute_query(create_billboard_table)"
   ]
  },
  {
   "cell_type": "code",
   "execution_count": null,
   "id": "b9477500",
   "metadata": {},
   "outputs": [],
   "source": [
    "execute_query(gps_point_insert_query(2))"
   ]
  },
  {
   "cell_type": "code",
   "execution_count": null,
   "id": "799902d1",
   "metadata": {},
   "outputs": [],
   "source": [
    "execute_query(billboard_insert_query(2))"
   ]
  },
  {
   "cell_type": "code",
   "execution_count": null,
   "id": "6173f18e",
   "metadata": {},
   "outputs": [],
   "source": [
    "execute_query(create_post_gis_view)\n",
    "\n",
    "res = execute_query(postgis_time, fetch = True)\n",
    "time = res[-1][0].split(\":\")[1].strip()\n",
    "print(time)"
   ]
  },
  {
   "cell_type": "code",
   "execution_count": null,
   "id": "e75d647b",
   "metadata": {},
   "outputs": [],
   "source": [
    "execute_query(create_mobility_bus_table)\n",
    "execute_query(create_mobility_view)\n",
    "\n",
    "res = execute_query(mobility_time, fetch = True)\n",
    "time = res[-1][0].split(\":\")[1].strip()\n",
    "print(time)"
   ]
  },
  {
   "cell_type": "code",
   "execution_count": null,
   "id": "72693450",
   "metadata": {},
   "outputs": [],
   "source": []
  },
  {
   "cell_type": "markdown",
   "id": "a73c831d",
   "metadata": {},
   "source": []
  }
 ],
 "metadata": {
  "kernelspec": {
   "display_name": "Python 3",
   "language": "python",
   "name": "python3"
  },
  "language_info": {
   "codemirror_mode": {
    "name": "ipython",
    "version": 3
   },
   "file_extension": ".py",
   "mimetype": "text/x-python",
   "name": "python",
   "nbconvert_exporter": "python",
   "pygments_lexer": "ipython3",
   "version": "3.7.4"
  }
 },
 "nbformat": 4,
 "nbformat_minor": 5
}
